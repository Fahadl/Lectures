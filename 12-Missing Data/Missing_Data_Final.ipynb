{
 "cells": [
  {
   "cell_type": "markdown",
   "id": "exclusive-accused",
   "metadata": {},
   "source": [
    "# Missing Data"
   ]
  },
  {
   "cell_type": "code",
   "execution_count": 1,
   "id": "equal-wesley",
   "metadata": {},
   "outputs": [],
   "source": [
    "# Import Libraries\n",
    "import pandas as pd \n",
    "import numpy as np\n",
    "import seaborn as sns\n",
    "import plotly.express as px\n",
    "import matplotlib.pyplot as plt\n",
    "import warnings\n",
    "warnings.filterwarnings(\"ignore\")"
   ]
  },
  {
   "cell_type": "code",
   "execution_count": 2,
   "id": "smooth-document",
   "metadata": {},
   "outputs": [],
   "source": [
    "data = {'Name':['Ali','Abduallah',np.nan,'Sami',np.nan,'Amal',np.nan,np.nan,'Amjad','Shahed'],\n",
    "      'Gender':['Male','Male', np.nan,'Male','Male','Female','Female','Female','Female','Female'],\n",
    "      'Income':[5000, 7000, np.nan, 7000, 3000, np.nan, 7000, 3000, 7000, 1000],\n",
    "       'Work':[np.nan,'Remote',np.nan,'On_site','Remote','On_site','Remote',np.nan,'On_site','Remote']}\n",
    "\n",
    "data = pd.DataFrame(data)"
   ]
  },
  {
   "cell_type": "code",
   "execution_count": 3,
   "id": "interstate-proceeding",
   "metadata": {},
   "outputs": [
    {
     "data": {
      "text/html": [
       "<div>\n",
       "<style scoped>\n",
       "    .dataframe tbody tr th:only-of-type {\n",
       "        vertical-align: middle;\n",
       "    }\n",
       "\n",
       "    .dataframe tbody tr th {\n",
       "        vertical-align: top;\n",
       "    }\n",
       "\n",
       "    .dataframe thead th {\n",
       "        text-align: right;\n",
       "    }\n",
       "</style>\n",
       "<table border=\"1\" class=\"dataframe\">\n",
       "  <thead>\n",
       "    <tr style=\"text-align: right;\">\n",
       "      <th></th>\n",
       "      <th>Name</th>\n",
       "      <th>Gender</th>\n",
       "      <th>Income</th>\n",
       "      <th>Work</th>\n",
       "    </tr>\n",
       "  </thead>\n",
       "  <tbody>\n",
       "    <tr>\n",
       "      <th>0</th>\n",
       "      <td>Ali</td>\n",
       "      <td>Male</td>\n",
       "      <td>5000.0</td>\n",
       "      <td>NaN</td>\n",
       "    </tr>\n",
       "    <tr>\n",
       "      <th>1</th>\n",
       "      <td>Abduallah</td>\n",
       "      <td>Male</td>\n",
       "      <td>7000.0</td>\n",
       "      <td>Remote</td>\n",
       "    </tr>\n",
       "    <tr>\n",
       "      <th>2</th>\n",
       "      <td>NaN</td>\n",
       "      <td>NaN</td>\n",
       "      <td>NaN</td>\n",
       "      <td>NaN</td>\n",
       "    </tr>\n",
       "    <tr>\n",
       "      <th>3</th>\n",
       "      <td>Sami</td>\n",
       "      <td>Male</td>\n",
       "      <td>7000.0</td>\n",
       "      <td>On_site</td>\n",
       "    </tr>\n",
       "    <tr>\n",
       "      <th>4</th>\n",
       "      <td>NaN</td>\n",
       "      <td>Male</td>\n",
       "      <td>3000.0</td>\n",
       "      <td>Remote</td>\n",
       "    </tr>\n",
       "    <tr>\n",
       "      <th>5</th>\n",
       "      <td>Amal</td>\n",
       "      <td>Female</td>\n",
       "      <td>NaN</td>\n",
       "      <td>On_site</td>\n",
       "    </tr>\n",
       "    <tr>\n",
       "      <th>6</th>\n",
       "      <td>NaN</td>\n",
       "      <td>Female</td>\n",
       "      <td>7000.0</td>\n",
       "      <td>Remote</td>\n",
       "    </tr>\n",
       "    <tr>\n",
       "      <th>7</th>\n",
       "      <td>NaN</td>\n",
       "      <td>Female</td>\n",
       "      <td>3000.0</td>\n",
       "      <td>NaN</td>\n",
       "    </tr>\n",
       "    <tr>\n",
       "      <th>8</th>\n",
       "      <td>Amjad</td>\n",
       "      <td>Female</td>\n",
       "      <td>7000.0</td>\n",
       "      <td>On_site</td>\n",
       "    </tr>\n",
       "    <tr>\n",
       "      <th>9</th>\n",
       "      <td>Shahed</td>\n",
       "      <td>Female</td>\n",
       "      <td>1000.0</td>\n",
       "      <td>Remote</td>\n",
       "    </tr>\n",
       "  </tbody>\n",
       "</table>\n",
       "</div>"
      ],
      "text/plain": [
       "        Name  Gender  Income     Work\n",
       "0        Ali    Male  5000.0      NaN\n",
       "1  Abduallah    Male  7000.0   Remote\n",
       "2        NaN     NaN     NaN      NaN\n",
       "3       Sami    Male  7000.0  On_site\n",
       "4        NaN    Male  3000.0   Remote\n",
       "5       Amal  Female     NaN  On_site\n",
       "6        NaN  Female  7000.0   Remote\n",
       "7        NaN  Female  3000.0      NaN\n",
       "8      Amjad  Female  7000.0  On_site\n",
       "9     Shahed  Female  1000.0   Remote"
      ]
     },
     "execution_count": 3,
     "metadata": {},
     "output_type": "execute_result"
    }
   ],
   "source": [
    "data"
   ]
  },
  {
   "cell_type": "markdown",
   "id": "43f56651",
   "metadata": {},
   "source": [
    "## Identifying the Missing Data"
   ]
  },
  {
   "cell_type": "code",
   "execution_count": 4,
   "id": "2184c324",
   "metadata": {},
   "outputs": [
    {
     "data": {
      "text/html": [
       "<div>\n",
       "<style scoped>\n",
       "    .dataframe tbody tr th:only-of-type {\n",
       "        vertical-align: middle;\n",
       "    }\n",
       "\n",
       "    .dataframe tbody tr th {\n",
       "        vertical-align: top;\n",
       "    }\n",
       "\n",
       "    .dataframe thead th {\n",
       "        text-align: right;\n",
       "    }\n",
       "</style>\n",
       "<table border=\"1\" class=\"dataframe\">\n",
       "  <thead>\n",
       "    <tr style=\"text-align: right;\">\n",
       "      <th></th>\n",
       "      <th>Name</th>\n",
       "      <th>Gender</th>\n",
       "      <th>Income</th>\n",
       "      <th>Work</th>\n",
       "    </tr>\n",
       "  </thead>\n",
       "  <tbody>\n",
       "    <tr>\n",
       "      <th>0</th>\n",
       "      <td>False</td>\n",
       "      <td>False</td>\n",
       "      <td>False</td>\n",
       "      <td>True</td>\n",
       "    </tr>\n",
       "    <tr>\n",
       "      <th>1</th>\n",
       "      <td>False</td>\n",
       "      <td>False</td>\n",
       "      <td>False</td>\n",
       "      <td>False</td>\n",
       "    </tr>\n",
       "    <tr>\n",
       "      <th>2</th>\n",
       "      <td>True</td>\n",
       "      <td>True</td>\n",
       "      <td>True</td>\n",
       "      <td>True</td>\n",
       "    </tr>\n",
       "    <tr>\n",
       "      <th>3</th>\n",
       "      <td>False</td>\n",
       "      <td>False</td>\n",
       "      <td>False</td>\n",
       "      <td>False</td>\n",
       "    </tr>\n",
       "    <tr>\n",
       "      <th>4</th>\n",
       "      <td>True</td>\n",
       "      <td>False</td>\n",
       "      <td>False</td>\n",
       "      <td>False</td>\n",
       "    </tr>\n",
       "    <tr>\n",
       "      <th>5</th>\n",
       "      <td>False</td>\n",
       "      <td>False</td>\n",
       "      <td>True</td>\n",
       "      <td>False</td>\n",
       "    </tr>\n",
       "    <tr>\n",
       "      <th>6</th>\n",
       "      <td>True</td>\n",
       "      <td>False</td>\n",
       "      <td>False</td>\n",
       "      <td>False</td>\n",
       "    </tr>\n",
       "    <tr>\n",
       "      <th>7</th>\n",
       "      <td>True</td>\n",
       "      <td>False</td>\n",
       "      <td>False</td>\n",
       "      <td>True</td>\n",
       "    </tr>\n",
       "    <tr>\n",
       "      <th>8</th>\n",
       "      <td>False</td>\n",
       "      <td>False</td>\n",
       "      <td>False</td>\n",
       "      <td>False</td>\n",
       "    </tr>\n",
       "    <tr>\n",
       "      <th>9</th>\n",
       "      <td>False</td>\n",
       "      <td>False</td>\n",
       "      <td>False</td>\n",
       "      <td>False</td>\n",
       "    </tr>\n",
       "  </tbody>\n",
       "</table>\n",
       "</div>"
      ],
      "text/plain": [
       "    Name  Gender  Income   Work\n",
       "0  False   False   False   True\n",
       "1  False   False   False  False\n",
       "2   True    True    True   True\n",
       "3  False   False   False  False\n",
       "4   True   False   False  False\n",
       "5  False   False    True  False\n",
       "6   True   False   False  False\n",
       "7   True   False   False   True\n",
       "8  False   False   False  False\n",
       "9  False   False   False  False"
      ]
     },
     "execution_count": 4,
     "metadata": {},
     "output_type": "execute_result"
    }
   ],
   "source": [
    "data.isnull() # or .notnull()"
   ]
  },
  {
   "cell_type": "code",
   "execution_count": 5,
   "id": "136789ee",
   "metadata": {},
   "outputs": [
    {
     "data": {
      "text/plain": [
       "Name      4\n",
       "Gender    1\n",
       "Income    2\n",
       "Work      3\n",
       "dtype: int64"
      ]
     },
     "execution_count": 5,
     "metadata": {},
     "output_type": "execute_result"
    }
   ],
   "source": [
    "data.isnull().sum()"
   ]
  },
  {
   "cell_type": "code",
   "execution_count": 6,
   "id": "499d2166",
   "metadata": {},
   "outputs": [
    {
     "data": {
      "text/plain": [
       "Name      4\n",
       "Gender    1\n",
       "Income    2\n",
       "Work      3\n",
       "dtype: int64"
      ]
     },
     "execution_count": 6,
     "metadata": {},
     "output_type": "execute_result"
    }
   ],
   "source": [
    "data.isna().sum()"
   ]
  },
  {
   "cell_type": "code",
   "execution_count": 7,
   "id": "a6d58e78",
   "metadata": {},
   "outputs": [
    {
     "name": "stdout",
     "output_type": "stream",
     "text": [
      "<class 'pandas.core.frame.DataFrame'>\n",
      "RangeIndex: 10 entries, 0 to 9\n",
      "Data columns (total 4 columns):\n",
      " #   Column  Non-Null Count  Dtype  \n",
      "---  ------  --------------  -----  \n",
      " 0   Name    6 non-null      object \n",
      " 1   Gender  9 non-null      object \n",
      " 2   Income  8 non-null      float64\n",
      " 3   Work    7 non-null      object \n",
      "dtypes: float64(1), object(3)\n",
      "memory usage: 448.0+ bytes\n"
     ]
    }
   ],
   "source": [
    "data.info()"
   ]
  },
  {
   "cell_type": "code",
   "execution_count": 8,
   "id": "b917fe7f",
   "metadata": {},
   "outputs": [
    {
     "data": {
      "image/png": "[encoded data removed]",
      "text/plain": [
       "<Figure size 432x288 with 1 Axes>"
      ]
     },
     "metadata": {
      "needs_background": "light"
     },
     "output_type": "display_data"
    }
   ],
   "source": [
    "data.isnull().sum().sort_values().plot(kind=\"barh\", title=\"Missing Data\");"
   ]
  },
  {
   "cell_type": "code",
   "execution_count": 9,
   "id": "a86e0aa0",
   "metadata": {},
   "outputs": [
    {
     "data": {
      "image/png": "[encoded data removed]",
      "text/plain": [
       "<Figure size 1800x720 with 2 Axes>"
      ]
     },
     "metadata": {
      "needs_background": "light"
     },
     "output_type": "display_data"
    }
   ],
   "source": [
    "import missingno as msno  # pip install missingno\n",
    "\n",
    "# Plot correlation heatmap of missingness\n",
    "msno.matrix(data);"
   ]
  },
  {
   "cell_type": "markdown",
   "id": "e746777c",
   "metadata": {},
   "source": [
    "## Handling the Missing Data"
   ]
  },
  {
   "cell_type": "markdown",
   "id": "d84fd642",
   "metadata": {},
   "source": [
    "### 1- Data Dropping"
   ]
  },
  {
   "cell_type": "code",
   "execution_count": 10,
   "id": "93b6a740",
   "metadata": {},
   "outputs": [
    {
     "data": {
      "text/html": [
       "<div>\n",
       "<style scoped>\n",
       "    .dataframe tbody tr th:only-of-type {\n",
       "        vertical-align: middle;\n",
       "    }\n",
       "\n",
       "    .dataframe tbody tr th {\n",
       "        vertical-align: top;\n",
       "    }\n",
       "\n",
       "    .dataframe thead th {\n",
       "        text-align: right;\n",
       "    }\n",
       "</style>\n",
       "<table border=\"1\" class=\"dataframe\">\n",
       "  <thead>\n",
       "    <tr style=\"text-align: right;\">\n",
       "      <th></th>\n",
       "      <th>Name</th>\n",
       "      <th>Gender</th>\n",
       "      <th>Income</th>\n",
       "      <th>Work</th>\n",
       "    </tr>\n",
       "  </thead>\n",
       "  <tbody>\n",
       "    <tr>\n",
       "      <th>0</th>\n",
       "      <td>Ali</td>\n",
       "      <td>Male</td>\n",
       "      <td>5000.0</td>\n",
       "      <td>NaN</td>\n",
       "    </tr>\n",
       "    <tr>\n",
       "      <th>1</th>\n",
       "      <td>Abduallah</td>\n",
       "      <td>Male</td>\n",
       "      <td>7000.0</td>\n",
       "      <td>Remote</td>\n",
       "    </tr>\n",
       "    <tr>\n",
       "      <th>2</th>\n",
       "      <td>NaN</td>\n",
       "      <td>NaN</td>\n",
       "      <td>NaN</td>\n",
       "      <td>NaN</td>\n",
       "    </tr>\n",
       "    <tr>\n",
       "      <th>3</th>\n",
       "      <td>Sami</td>\n",
       "      <td>Male</td>\n",
       "      <td>7000.0</td>\n",
       "      <td>On_site</td>\n",
       "    </tr>\n",
       "    <tr>\n",
       "      <th>4</th>\n",
       "      <td>NaN</td>\n",
       "      <td>Male</td>\n",
       "      <td>3000.0</td>\n",
       "      <td>Remote</td>\n",
       "    </tr>\n",
       "    <tr>\n",
       "      <th>5</th>\n",
       "      <td>Amal</td>\n",
       "      <td>Female</td>\n",
       "      <td>NaN</td>\n",
       "      <td>On_site</td>\n",
       "    </tr>\n",
       "    <tr>\n",
       "      <th>6</th>\n",
       "      <td>NaN</td>\n",
       "      <td>Female</td>\n",
       "      <td>7000.0</td>\n",
       "      <td>Remote</td>\n",
       "    </tr>\n",
       "    <tr>\n",
       "      <th>7</th>\n",
       "      <td>NaN</td>\n",
       "      <td>Female</td>\n",
       "      <td>3000.0</td>\n",
       "      <td>NaN</td>\n",
       "    </tr>\n",
       "    <tr>\n",
       "      <th>8</th>\n",
       "      <td>Amjad</td>\n",
       "      <td>Female</td>\n",
       "      <td>7000.0</td>\n",
       "      <td>On_site</td>\n",
       "    </tr>\n",
       "    <tr>\n",
       "      <th>9</th>\n",
       "      <td>Shahed</td>\n",
       "      <td>Female</td>\n",
       "      <td>1000.0</td>\n",
       "      <td>Remote</td>\n",
       "    </tr>\n",
       "  </tbody>\n",
       "</table>\n",
       "</div>"
      ],
      "text/plain": [
       "        Name  Gender  Income     Work\n",
       "0        Ali    Male  5000.0      NaN\n",
       "1  Abduallah    Male  7000.0   Remote\n",
       "2        NaN     NaN     NaN      NaN\n",
       "3       Sami    Male  7000.0  On_site\n",
       "4        NaN    Male  3000.0   Remote\n",
       "5       Amal  Female     NaN  On_site\n",
       "6        NaN  Female  7000.0   Remote\n",
       "7        NaN  Female  3000.0      NaN\n",
       "8      Amjad  Female  7000.0  On_site\n",
       "9     Shahed  Female  1000.0   Remote"
      ]
     },
     "execution_count": 10,
     "metadata": {},
     "output_type": "execute_result"
    }
   ],
   "source": [
    "data"
   ]
  },
  {
   "cell_type": "code",
   "execution_count": 11,
   "id": "228263bb",
   "metadata": {},
   "outputs": [
    {
     "data": {
      "text/html": [
       "<div>\n",
       "<style scoped>\n",
       "    .dataframe tbody tr th:only-of-type {\n",
       "        vertical-align: middle;\n",
       "    }\n",
       "\n",
       "    .dataframe tbody tr th {\n",
       "        vertical-align: top;\n",
       "    }\n",
       "\n",
       "    .dataframe thead th {\n",
       "        text-align: right;\n",
       "    }\n",
       "</style>\n",
       "<table border=\"1\" class=\"dataframe\">\n",
       "  <thead>\n",
       "    <tr style=\"text-align: right;\">\n",
       "      <th></th>\n",
       "      <th>Name</th>\n",
       "      <th>Gender</th>\n",
       "      <th>Income</th>\n",
       "      <th>Work</th>\n",
       "    </tr>\n",
       "  </thead>\n",
       "  <tbody>\n",
       "    <tr>\n",
       "      <th>1</th>\n",
       "      <td>Abduallah</td>\n",
       "      <td>Male</td>\n",
       "      <td>7000.0</td>\n",
       "      <td>Remote</td>\n",
       "    </tr>\n",
       "    <tr>\n",
       "      <th>3</th>\n",
       "      <td>Sami</td>\n",
       "      <td>Male</td>\n",
       "      <td>7000.0</td>\n",
       "      <td>On_site</td>\n",
       "    </tr>\n",
       "    <tr>\n",
       "      <th>8</th>\n",
       "      <td>Amjad</td>\n",
       "      <td>Female</td>\n",
       "      <td>7000.0</td>\n",
       "      <td>On_site</td>\n",
       "    </tr>\n",
       "    <tr>\n",
       "      <th>9</th>\n",
       "      <td>Shahed</td>\n",
       "      <td>Female</td>\n",
       "      <td>1000.0</td>\n",
       "      <td>Remote</td>\n",
       "    </tr>\n",
       "  </tbody>\n",
       "</table>\n",
       "</div>"
      ],
      "text/plain": [
       "        Name  Gender  Income     Work\n",
       "1  Abduallah    Male  7000.0   Remote\n",
       "3       Sami    Male  7000.0  On_site\n",
       "8      Amjad  Female  7000.0  On_site\n",
       "9     Shahed  Female  1000.0   Remote"
      ]
     },
     "execution_count": 11,
     "metadata": {},
     "output_type": "execute_result"
    }
   ],
   "source": [
    "d_data = data.dropna()\n",
    "d_data"
   ]
  },
  {
   "cell_type": "code",
   "execution_count": 12,
   "id": "cb3998ca",
   "metadata": {},
   "outputs": [
    {
     "data": {
      "text/html": [
       "<div>\n",
       "<style scoped>\n",
       "    .dataframe tbody tr th:only-of-type {\n",
       "        vertical-align: middle;\n",
       "    }\n",
       "\n",
       "    .dataframe tbody tr th {\n",
       "        vertical-align: top;\n",
       "    }\n",
       "\n",
       "    .dataframe thead th {\n",
       "        text-align: right;\n",
       "    }\n",
       "</style>\n",
       "<table border=\"1\" class=\"dataframe\">\n",
       "  <thead>\n",
       "    <tr style=\"text-align: right;\">\n",
       "      <th></th>\n",
       "      <th>Name</th>\n",
       "      <th>Gender</th>\n",
       "      <th>Income</th>\n",
       "      <th>Work</th>\n",
       "    </tr>\n",
       "  </thead>\n",
       "  <tbody>\n",
       "    <tr>\n",
       "      <th>0</th>\n",
       "      <td>Ali</td>\n",
       "      <td>Male</td>\n",
       "      <td>5000.0</td>\n",
       "      <td>NaN</td>\n",
       "    </tr>\n",
       "    <tr>\n",
       "      <th>1</th>\n",
       "      <td>Abduallah</td>\n",
       "      <td>Male</td>\n",
       "      <td>7000.0</td>\n",
       "      <td>Remote</td>\n",
       "    </tr>\n",
       "    <tr>\n",
       "      <th>3</th>\n",
       "      <td>Sami</td>\n",
       "      <td>Male</td>\n",
       "      <td>7000.0</td>\n",
       "      <td>On_site</td>\n",
       "    </tr>\n",
       "    <tr>\n",
       "      <th>4</th>\n",
       "      <td>NaN</td>\n",
       "      <td>Male</td>\n",
       "      <td>3000.0</td>\n",
       "      <td>Remote</td>\n",
       "    </tr>\n",
       "    <tr>\n",
       "      <th>5</th>\n",
       "      <td>Amal</td>\n",
       "      <td>Female</td>\n",
       "      <td>NaN</td>\n",
       "      <td>On_site</td>\n",
       "    </tr>\n",
       "    <tr>\n",
       "      <th>6</th>\n",
       "      <td>NaN</td>\n",
       "      <td>Female</td>\n",
       "      <td>7000.0</td>\n",
       "      <td>Remote</td>\n",
       "    </tr>\n",
       "    <tr>\n",
       "      <th>7</th>\n",
       "      <td>NaN</td>\n",
       "      <td>Female</td>\n",
       "      <td>3000.0</td>\n",
       "      <td>NaN</td>\n",
       "    </tr>\n",
       "    <tr>\n",
       "      <th>8</th>\n",
       "      <td>Amjad</td>\n",
       "      <td>Female</td>\n",
       "      <td>7000.0</td>\n",
       "      <td>On_site</td>\n",
       "    </tr>\n",
       "    <tr>\n",
       "      <th>9</th>\n",
       "      <td>Shahed</td>\n",
       "      <td>Female</td>\n",
       "      <td>1000.0</td>\n",
       "      <td>Remote</td>\n",
       "    </tr>\n",
       "  </tbody>\n",
       "</table>\n",
       "</div>"
      ],
      "text/plain": [
       "        Name  Gender  Income     Work\n",
       "0        Ali    Male  5000.0      NaN\n",
       "1  Abduallah    Male  7000.0   Remote\n",
       "3       Sami    Male  7000.0  On_site\n",
       "4        NaN    Male  3000.0   Remote\n",
       "5       Amal  Female     NaN  On_site\n",
       "6        NaN  Female  7000.0   Remote\n",
       "7        NaN  Female  3000.0      NaN\n",
       "8      Amjad  Female  7000.0  On_site\n",
       "9     Shahed  Female  1000.0   Remote"
      ]
     },
     "execution_count": 12,
     "metadata": {},
     "output_type": "execute_result"
    }
   ],
   "source": [
    "d_data = data.dropna(how=\"all\")\n",
    "d_data"
   ]
  },
  {
   "cell_type": "code",
   "execution_count": 13,
   "id": "c546f4b3",
   "metadata": {},
   "outputs": [
    {
     "data": {
      "text/html": [
       "<div>\n",
       "<style scoped>\n",
       "    .dataframe tbody tr th:only-of-type {\n",
       "        vertical-align: middle;\n",
       "    }\n",
       "\n",
       "    .dataframe tbody tr th {\n",
       "        vertical-align: top;\n",
       "    }\n",
       "\n",
       "    .dataframe thead th {\n",
       "        text-align: right;\n",
       "    }\n",
       "</style>\n",
       "<table border=\"1\" class=\"dataframe\">\n",
       "  <thead>\n",
       "    <tr style=\"text-align: right;\">\n",
       "      <th></th>\n",
       "    </tr>\n",
       "  </thead>\n",
       "  <tbody>\n",
       "    <tr>\n",
       "      <th>0</th>\n",
       "    </tr>\n",
       "    <tr>\n",
       "      <th>1</th>\n",
       "    </tr>\n",
       "    <tr>\n",
       "      <th>2</th>\n",
       "    </tr>\n",
       "    <tr>\n",
       "      <th>3</th>\n",
       "    </tr>\n",
       "    <tr>\n",
       "      <th>4</th>\n",
       "    </tr>\n",
       "    <tr>\n",
       "      <th>5</th>\n",
       "    </tr>\n",
       "    <tr>\n",
       "      <th>6</th>\n",
       "    </tr>\n",
       "    <tr>\n",
       "      <th>7</th>\n",
       "    </tr>\n",
       "    <tr>\n",
       "      <th>8</th>\n",
       "    </tr>\n",
       "    <tr>\n",
       "      <th>9</th>\n",
       "    </tr>\n",
       "  </tbody>\n",
       "</table>\n",
       "</div>"
      ],
      "text/plain": [
       "Empty DataFrame\n",
       "Columns: []\n",
       "Index: [0, 1, 2, 3, 4, 5, 6, 7, 8, 9]"
      ]
     },
     "execution_count": 13,
     "metadata": {},
     "output_type": "execute_result"
    }
   ],
   "source": [
    "d_data = data.dropna(axis=1)\n",
    "d_data"
   ]
  },
  {
   "cell_type": "markdown",
   "id": "nonprofit-liberal",
   "metadata": {},
   "source": [
    "### 2- Imputation"
   ]
  },
  {
   "cell_type": "code",
   "execution_count": 14,
   "id": "082046a9",
   "metadata": {},
   "outputs": [
    {
     "data": {
      "image/png": "[encoded data removed]",
      "text/plain": [
       "<Figure size 432x288 with 1 Axes>"
      ]
     },
     "metadata": {
      "needs_background": "light"
     },
     "output_type": "display_data"
    }
   ],
   "source": [
    "# continuous data\n",
    "data.Income.plot(kind=\"hist\", bins=20, title=\"Income Distribution\");"
   ]
  },
  {
   "cell_type": "code",
   "execution_count": 15,
   "id": "0d169571",
   "metadata": {},
   "outputs": [
    {
     "data": {
      "text/plain": [
       "5714285.714285715"
      ]
     },
     "execution_count": 15,
     "metadata": {},
     "output_type": "execute_result"
    }
   ],
   "source": [
    "data.Income.var()"
   ]
  },
  {
   "cell_type": "code",
   "execution_count": 16,
   "id": "cc11dc19",
   "metadata": {},
   "outputs": [
    {
     "name": "stdout",
     "output_type": "stream",
     "text": [
      "Avg. Income =  5000\n"
     ]
    }
   ],
   "source": [
    "Income_mean = round(data.Income.mean())\n",
    "print('Avg. Income = ', Income_mean)"
   ]
  },
  {
   "cell_type": "code",
   "execution_count": 17,
   "id": "42d9ed01",
   "metadata": {},
   "outputs": [
    {
     "data": {
      "text/plain": [
       "5000.0"
      ]
     },
     "execution_count": 17,
     "metadata": {},
     "output_type": "execute_result"
    }
   ],
   "source": [
    "data.Income.mean()"
   ]
  },
  {
   "cell_type": "code",
   "execution_count": 18,
   "id": "a5a790b2",
   "metadata": {},
   "outputs": [
    {
     "data": {
      "text/plain": [
       "0"
      ]
     },
     "execution_count": 18,
     "metadata": {},
     "output_type": "execute_result"
    }
   ],
   "source": [
    "data.Income = data.Income.fillna(Income_mean)\n",
    "data.Income.isnull().sum()"
   ]
  },
  {
   "cell_type": "code",
   "execution_count": 19,
   "id": "fab67fda",
   "metadata": {},
   "outputs": [
    {
     "data": {
      "image/png": "[encoded data removed]",
      "text/plain": [
       "<Figure size 432x288 with 1 Axes>"
      ]
     },
     "metadata": {
      "needs_background": "light"
     },
     "output_type": "display_data"
    }
   ],
   "source": [
    "data.Income.plot(kind=\"hist\", bins=20, title=\"Income Distribution\");"
   ]
  },
  {
   "cell_type": "code",
   "execution_count": 20,
   "id": "ca0df788",
   "metadata": {},
   "outputs": [
    {
     "data": {
      "text/plain": [
       "4444444.444444444"
      ]
     },
     "execution_count": 20,
     "metadata": {},
     "output_type": "execute_result"
    }
   ],
   "source": [
    "data.Income.var()"
   ]
  },
  {
   "cell_type": "code",
   "execution_count": 21,
   "id": "de2b42c4",
   "metadata": {},
   "outputs": [
    {
     "data": {
      "text/html": [
       "<div>\n",
       "<style scoped>\n",
       "    .dataframe tbody tr th:only-of-type {\n",
       "        vertical-align: middle;\n",
       "    }\n",
       "\n",
       "    .dataframe tbody tr th {\n",
       "        vertical-align: top;\n",
       "    }\n",
       "\n",
       "    .dataframe thead th {\n",
       "        text-align: right;\n",
       "    }\n",
       "</style>\n",
       "<table border=\"1\" class=\"dataframe\">\n",
       "  <thead>\n",
       "    <tr style=\"text-align: right;\">\n",
       "      <th></th>\n",
       "      <th>Name</th>\n",
       "      <th>Gender</th>\n",
       "      <th>Income</th>\n",
       "      <th>Work</th>\n",
       "    </tr>\n",
       "  </thead>\n",
       "  <tbody>\n",
       "    <tr>\n",
       "      <th>0</th>\n",
       "      <td>Ali</td>\n",
       "      <td>Male</td>\n",
       "      <td>5000.0</td>\n",
       "      <td>NaN</td>\n",
       "    </tr>\n",
       "    <tr>\n",
       "      <th>1</th>\n",
       "      <td>Abduallah</td>\n",
       "      <td>Male</td>\n",
       "      <td>7000.0</td>\n",
       "      <td>Remote</td>\n",
       "    </tr>\n",
       "    <tr>\n",
       "      <th>2</th>\n",
       "      <td>NaN</td>\n",
       "      <td>NaN</td>\n",
       "      <td>5000.0</td>\n",
       "      <td>NaN</td>\n",
       "    </tr>\n",
       "    <tr>\n",
       "      <th>3</th>\n",
       "      <td>Sami</td>\n",
       "      <td>Male</td>\n",
       "      <td>7000.0</td>\n",
       "      <td>On_site</td>\n",
       "    </tr>\n",
       "    <tr>\n",
       "      <th>4</th>\n",
       "      <td>NaN</td>\n",
       "      <td>Male</td>\n",
       "      <td>3000.0</td>\n",
       "      <td>Remote</td>\n",
       "    </tr>\n",
       "    <tr>\n",
       "      <th>5</th>\n",
       "      <td>Amal</td>\n",
       "      <td>Female</td>\n",
       "      <td>5000.0</td>\n",
       "      <td>On_site</td>\n",
       "    </tr>\n",
       "    <tr>\n",
       "      <th>6</th>\n",
       "      <td>NaN</td>\n",
       "      <td>Female</td>\n",
       "      <td>7000.0</td>\n",
       "      <td>Remote</td>\n",
       "    </tr>\n",
       "    <tr>\n",
       "      <th>7</th>\n",
       "      <td>NaN</td>\n",
       "      <td>Female</td>\n",
       "      <td>3000.0</td>\n",
       "      <td>NaN</td>\n",
       "    </tr>\n",
       "    <tr>\n",
       "      <th>8</th>\n",
       "      <td>Amjad</td>\n",
       "      <td>Female</td>\n",
       "      <td>7000.0</td>\n",
       "      <td>On_site</td>\n",
       "    </tr>\n",
       "    <tr>\n",
       "      <th>9</th>\n",
       "      <td>Shahed</td>\n",
       "      <td>Female</td>\n",
       "      <td>1000.0</td>\n",
       "      <td>Remote</td>\n",
       "    </tr>\n",
       "  </tbody>\n",
       "</table>\n",
       "</div>"
      ],
      "text/plain": [
       "        Name  Gender  Income     Work\n",
       "0        Ali    Male  5000.0      NaN\n",
       "1  Abduallah    Male  7000.0   Remote\n",
       "2        NaN     NaN  5000.0      NaN\n",
       "3       Sami    Male  7000.0  On_site\n",
       "4        NaN    Male  3000.0   Remote\n",
       "5       Amal  Female  5000.0  On_site\n",
       "6        NaN  Female  7000.0   Remote\n",
       "7        NaN  Female  3000.0      NaN\n",
       "8      Amjad  Female  7000.0  On_site\n",
       "9     Shahed  Female  1000.0   Remote"
      ]
     },
     "execution_count": 21,
     "metadata": {},
     "output_type": "execute_result"
    }
   ],
   "source": [
    "data"
   ]
  },
  {
   "cell_type": "code",
   "execution_count": 22,
   "id": "9c1e064e",
   "metadata": {},
   "outputs": [
    {
     "data": {
      "image/png": "[encoded data removed]",
      "text/plain": [
       "<Figure size 432x288 with 1 Axes>"
      ]
     },
     "metadata": {
      "needs_background": "light"
     },
     "output_type": "display_data"
    }
   ],
   "source": [
    "# catagorical data\n",
    "data['Work'].value_counts().plot(kind='bar', title=\"Work Distribution\");\n",
    "# mean is not suitable as it would give a value that is not represented in the dataset "
   ]
  },
  {
   "cell_type": "code",
   "execution_count": 23,
   "id": "f3281d27",
   "metadata": {},
   "outputs": [
    {
     "data": {
      "text/plain": [
       "'Remote'"
      ]
     },
     "execution_count": 23,
     "metadata": {},
     "output_type": "execute_result"
    }
   ],
   "source": [
    "Work_mode = data.Work.mode()[0]\n",
    "Work_mode"
   ]
  },
  {
   "cell_type": "code",
   "execution_count": 24,
   "id": "9b724592",
   "metadata": {},
   "outputs": [],
   "source": [
    "data['Work'] = data['Work'].fillna(Work_mode) # we can use replace(np.NaN, Work_mode)"
   ]
  },
  {
   "cell_type": "code",
   "execution_count": 25,
   "id": "568e4dd6",
   "metadata": {},
   "outputs": [
    {
     "data": {
      "image/png": "[encoded data removed]",
      "text/plain": [
       "<Figure size 432x288 with 1 Axes>"
      ]
     },
     "metadata": {
      "needs_background": "light"
     },
     "output_type": "display_data"
    }
   ],
   "source": [
    "data['Work'].value_counts().plot(kind='bar', title=\"Work Distribution\");"
   ]
  },
  {
   "cell_type": "code",
   "execution_count": 26,
   "id": "892e01d7",
   "metadata": {},
   "outputs": [
    {
     "data": {
      "text/html": [
       "<div>\n",
       "<style scoped>\n",
       "    .dataframe tbody tr th:only-of-type {\n",
       "        vertical-align: middle;\n",
       "    }\n",
       "\n",
       "    .dataframe tbody tr th {\n",
       "        vertical-align: top;\n",
       "    }\n",
       "\n",
       "    .dataframe thead th {\n",
       "        text-align: right;\n",
       "    }\n",
       "</style>\n",
       "<table border=\"1\" class=\"dataframe\">\n",
       "  <thead>\n",
       "    <tr style=\"text-align: right;\">\n",
       "      <th></th>\n",
       "      <th>Name</th>\n",
       "      <th>Gender</th>\n",
       "      <th>Income</th>\n",
       "      <th>Work</th>\n",
       "    </tr>\n",
       "  </thead>\n",
       "  <tbody>\n",
       "    <tr>\n",
       "      <th>0</th>\n",
       "      <td>Ali</td>\n",
       "      <td>Male</td>\n",
       "      <td>5000.0</td>\n",
       "      <td>Remote</td>\n",
       "    </tr>\n",
       "    <tr>\n",
       "      <th>1</th>\n",
       "      <td>Abduallah</td>\n",
       "      <td>Male</td>\n",
       "      <td>7000.0</td>\n",
       "      <td>Remote</td>\n",
       "    </tr>\n",
       "    <tr>\n",
       "      <th>2</th>\n",
       "      <td>NaN</td>\n",
       "      <td>NaN</td>\n",
       "      <td>5000.0</td>\n",
       "      <td>Remote</td>\n",
       "    </tr>\n",
       "    <tr>\n",
       "      <th>3</th>\n",
       "      <td>Sami</td>\n",
       "      <td>Male</td>\n",
       "      <td>7000.0</td>\n",
       "      <td>On_site</td>\n",
       "    </tr>\n",
       "    <tr>\n",
       "      <th>4</th>\n",
       "      <td>NaN</td>\n",
       "      <td>Male</td>\n",
       "      <td>3000.0</td>\n",
       "      <td>Remote</td>\n",
       "    </tr>\n",
       "    <tr>\n",
       "      <th>5</th>\n",
       "      <td>Amal</td>\n",
       "      <td>Female</td>\n",
       "      <td>5000.0</td>\n",
       "      <td>On_site</td>\n",
       "    </tr>\n",
       "    <tr>\n",
       "      <th>6</th>\n",
       "      <td>NaN</td>\n",
       "      <td>Female</td>\n",
       "      <td>7000.0</td>\n",
       "      <td>Remote</td>\n",
       "    </tr>\n",
       "    <tr>\n",
       "      <th>7</th>\n",
       "      <td>NaN</td>\n",
       "      <td>Female</td>\n",
       "      <td>3000.0</td>\n",
       "      <td>Remote</td>\n",
       "    </tr>\n",
       "    <tr>\n",
       "      <th>8</th>\n",
       "      <td>Amjad</td>\n",
       "      <td>Female</td>\n",
       "      <td>7000.0</td>\n",
       "      <td>On_site</td>\n",
       "    </tr>\n",
       "    <tr>\n",
       "      <th>9</th>\n",
       "      <td>Shahed</td>\n",
       "      <td>Female</td>\n",
       "      <td>1000.0</td>\n",
       "      <td>Remote</td>\n",
       "    </tr>\n",
       "  </tbody>\n",
       "</table>\n",
       "</div>"
      ],
      "text/plain": [
       "        Name  Gender  Income     Work\n",
       "0        Ali    Male  5000.0   Remote\n",
       "1  Abduallah    Male  7000.0   Remote\n",
       "2        NaN     NaN  5000.0   Remote\n",
       "3       Sami    Male  7000.0  On_site\n",
       "4        NaN    Male  3000.0   Remote\n",
       "5       Amal  Female  5000.0  On_site\n",
       "6        NaN  Female  7000.0   Remote\n",
       "7        NaN  Female  3000.0   Remote\n",
       "8      Amjad  Female  7000.0  On_site\n",
       "9     Shahed  Female  1000.0   Remote"
      ]
     },
     "execution_count": 26,
     "metadata": {},
     "output_type": "execute_result"
    }
   ],
   "source": [
    "data"
   ]
  },
  {
   "cell_type": "code",
   "execution_count": 27,
   "id": "dd45cf86",
   "metadata": {},
   "outputs": [
    {
     "data": {
      "text/html": [
       "<div>\n",
       "<style scoped>\n",
       "    .dataframe tbody tr th:only-of-type {\n",
       "        vertical-align: middle;\n",
       "    }\n",
       "\n",
       "    .dataframe tbody tr th {\n",
       "        vertical-align: top;\n",
       "    }\n",
       "\n",
       "    .dataframe thead th {\n",
       "        text-align: right;\n",
       "    }\n",
       "</style>\n",
       "<table border=\"1\" class=\"dataframe\">\n",
       "  <thead>\n",
       "    <tr style=\"text-align: right;\">\n",
       "      <th></th>\n",
       "      <th>Name</th>\n",
       "      <th>Gender</th>\n",
       "      <th>Income</th>\n",
       "    </tr>\n",
       "  </thead>\n",
       "  <tbody>\n",
       "    <tr>\n",
       "      <th>0</th>\n",
       "      <td>Ali</td>\n",
       "      <td>Male</td>\n",
       "      <td>5000.0</td>\n",
       "    </tr>\n",
       "    <tr>\n",
       "      <th>1</th>\n",
       "      <td>Abduallah</td>\n",
       "      <td>Male</td>\n",
       "      <td>NaN</td>\n",
       "    </tr>\n",
       "    <tr>\n",
       "      <th>2</th>\n",
       "      <td>Sultan</td>\n",
       "      <td>Male</td>\n",
       "      <td>3000.0</td>\n",
       "    </tr>\n",
       "    <tr>\n",
       "      <th>3</th>\n",
       "      <td>Sami</td>\n",
       "      <td>Male</td>\n",
       "      <td>7000.0</td>\n",
       "    </tr>\n",
       "    <tr>\n",
       "      <th>4</th>\n",
       "      <td>Khalid</td>\n",
       "      <td>Male</td>\n",
       "      <td>NaN</td>\n",
       "    </tr>\n",
       "    <tr>\n",
       "      <th>5</th>\n",
       "      <td>Amal</td>\n",
       "      <td>Female</td>\n",
       "      <td>5000.0</td>\n",
       "    </tr>\n",
       "    <tr>\n",
       "      <th>6</th>\n",
       "      <td>Maha</td>\n",
       "      <td>Female</td>\n",
       "      <td>NaN</td>\n",
       "    </tr>\n",
       "    <tr>\n",
       "      <th>7</th>\n",
       "      <td>Razan</td>\n",
       "      <td>Female</td>\n",
       "      <td>NaN</td>\n",
       "    </tr>\n",
       "    <tr>\n",
       "      <th>8</th>\n",
       "      <td>Amjad</td>\n",
       "      <td>Female</td>\n",
       "      <td>7000.0</td>\n",
       "    </tr>\n",
       "    <tr>\n",
       "      <th>9</th>\n",
       "      <td>Shahed</td>\n",
       "      <td>Female</td>\n",
       "      <td>1000.0</td>\n",
       "    </tr>\n",
       "  </tbody>\n",
       "</table>\n",
       "</div>"
      ],
      "text/plain": [
       "        Name  Gender  Income\n",
       "0        Ali    Male  5000.0\n",
       "1  Abduallah    Male     NaN\n",
       "2     Sultan    Male  3000.0\n",
       "3       Sami    Male  7000.0\n",
       "4     Khalid    Male     NaN\n",
       "5       Amal  Female  5000.0\n",
       "6       Maha  Female     NaN\n",
       "7      Razan  Female     NaN\n",
       "8      Amjad  Female  7000.0\n",
       "9     Shahed  Female  1000.0"
      ]
     },
     "execution_count": 27,
     "metadata": {},
     "output_type": "execute_result"
    }
   ],
   "source": [
    "data_v2 = {'Name':['Ali','Abduallah','Sultan','Sami','Khalid','Amal','Maha','Razan','Amjad','Shahed'],\n",
    "      'Gender':['Male','Male','Male','Male','Male','Female','Female','Female','Female','Female'],\n",
    "      'Income':[5000, np.nan, 3000, 7000, np.nan, 5000, np.nan, np.nan, 7000, 1000]}\n",
    "\n",
    "data_v2 = pd.DataFrame(data_v2)\n",
    "data_v2"
   ]
  },
  {
   "cell_type": "code",
   "execution_count": 28,
   "id": "169fc934",
   "metadata": {},
   "outputs": [
    {
     "name": "stdout",
     "output_type": "stream",
     "text": [
      "Male Avg. Income 5000.0\n",
      "Female Avg. Income 4333\n"
     ]
    }
   ],
   "source": [
    "female_data = data_v2[data_v2[\"Gender\"] == \"Female\"]\n",
    "male_data = data_v2[data_v2[\"Gender\"] == \"Male\"]\n",
    "print('Male Avg. Income',male_data.Income.mean())\n",
    "print('Female Avg. Income', round(female_data.Income.mean()))"
   ]
  },
  {
   "cell_type": "code",
   "execution_count": 29,
   "id": "endangered-reception",
   "metadata": {
    "scrolled": false
   },
   "outputs": [
    {
     "name": "stderr",
     "output_type": "stream",
     "text": [
      "b'Skipping line 22: expected 6 fields, saw 7\\nSkipping line 40: expected 6 fields, saw 7\\nSkipping line 62: expected 6 fields, saw 7\\n'\n"
     ]
    },
    {
     "data": {
      "text/html": [
       "<div>\n",
       "<style scoped>\n",
       "    .dataframe tbody tr th:only-of-type {\n",
       "        vertical-align: middle;\n",
       "    }\n",
       "\n",
       "    .dataframe tbody tr th {\n",
       "        vertical-align: top;\n",
       "    }\n",
       "\n",
       "    .dataframe thead th {\n",
       "        text-align: right;\n",
       "    }\n",
       "</style>\n",
       "<table border=\"1\" class=\"dataframe\">\n",
       "  <thead>\n",
       "    <tr style=\"text-align: right;\">\n",
       "      <th></th>\n",
       "      <th>Prefix</th>\n",
       "      <th>Assignment</th>\n",
       "      <th>Tutorial</th>\n",
       "      <th>Midterm</th>\n",
       "      <th>TakeHome</th>\n",
       "      <th>Final</th>\n",
       "    </tr>\n",
       "  </thead>\n",
       "  <tbody>\n",
       "    <tr>\n",
       "      <th>0</th>\n",
       "      <td>5</td>\n",
       "      <td>57.14</td>\n",
       "      <td>34.09</td>\n",
       "      <td>64.38</td>\n",
       "      <td>51.48</td>\n",
       "      <td>52.50</td>\n",
       "    </tr>\n",
       "    <tr>\n",
       "      <th>1</th>\n",
       "      <td>8</td>\n",
       "      <td>95.05</td>\n",
       "      <td>105.49</td>\n",
       "      <td>67.50</td>\n",
       "      <td>99.07</td>\n",
       "      <td>68.33</td>\n",
       "    </tr>\n",
       "    <tr>\n",
       "      <th>2</th>\n",
       "      <td>8</td>\n",
       "      <td>83.70</td>\n",
       "      <td>83.17</td>\n",
       "      <td>30.00</td>\n",
       "      <td>63.15</td>\n",
       "      <td>48.89</td>\n",
       "    </tr>\n",
       "    <tr>\n",
       "      <th>3</th>\n",
       "      <td>7</td>\n",
       "      <td>81.22</td>\n",
       "      <td>96.06</td>\n",
       "      <td>49.38</td>\n",
       "      <td>105.93</td>\n",
       "      <td>80.56</td>\n",
       "    </tr>\n",
       "    <tr>\n",
       "      <th>4</th>\n",
       "      <td>8</td>\n",
       "      <td>91.32</td>\n",
       "      <td>93.64</td>\n",
       "      <td>95.00</td>\n",
       "      <td>107.41</td>\n",
       "      <td>73.89</td>\n",
       "    </tr>\n",
       "    <tr>\n",
       "      <th>...</th>\n",
       "      <td>...</td>\n",
       "      <td>...</td>\n",
       "      <td>...</td>\n",
       "      <td>...</td>\n",
       "      <td>...</td>\n",
       "      <td>...</td>\n",
       "    </tr>\n",
       "    <tr>\n",
       "      <th>91</th>\n",
       "      <td>8</td>\n",
       "      <td>96.73</td>\n",
       "      <td>103.71</td>\n",
       "      <td>45.00</td>\n",
       "      <td>93.52</td>\n",
       "      <td>61.94</td>\n",
       "    </tr>\n",
       "    <tr>\n",
       "      <th>92</th>\n",
       "      <td>7</td>\n",
       "      <td>85.34</td>\n",
       "      <td>80.54</td>\n",
       "      <td>41.25</td>\n",
       "      <td>93.70</td>\n",
       "      <td>39.72</td>\n",
       "    </tr>\n",
       "    <tr>\n",
       "      <th>93</th>\n",
       "      <td>8</td>\n",
       "      <td>89.94</td>\n",
       "      <td>102.77</td>\n",
       "      <td>87.50</td>\n",
       "      <td>90.74</td>\n",
       "      <td>87.78</td>\n",
       "    </tr>\n",
       "    <tr>\n",
       "      <th>94</th>\n",
       "      <td>7</td>\n",
       "      <td>95.60</td>\n",
       "      <td>76.13</td>\n",
       "      <td>66.25</td>\n",
       "      <td>99.81</td>\n",
       "      <td>85.56</td>\n",
       "    </tr>\n",
       "    <tr>\n",
       "      <th>95</th>\n",
       "      <td>8</td>\n",
       "      <td>63.40</td>\n",
       "      <td>97.37</td>\n",
       "      <td>73.12</td>\n",
       "      <td>72.78</td>\n",
       "      <td>77.22</td>\n",
       "    </tr>\n",
       "  </tbody>\n",
       "</table>\n",
       "<p>96 rows × 6 columns</p>\n",
       "</div>"
      ],
      "text/plain": [
       "    Prefix  Assignment  Tutorial  Midterm  TakeHome  Final\n",
       "0        5       57.14     34.09    64.38     51.48  52.50\n",
       "1        8       95.05    105.49    67.50     99.07  68.33\n",
       "2        8       83.70     83.17    30.00     63.15  48.89\n",
       "3        7       81.22     96.06    49.38    105.93  80.56\n",
       "4        8       91.32     93.64    95.00    107.41  73.89\n",
       "..     ...         ...       ...      ...       ...    ...\n",
       "91       8       96.73    103.71    45.00     93.52  61.94\n",
       "92       7       85.34     80.54    41.25     93.70  39.72\n",
       "93       8       89.94    102.77    87.50     90.74  87.78\n",
       "94       7       95.60     76.13    66.25     99.81  85.56\n",
       "95       8       63.40     97.37    73.12     72.78  77.22\n",
       "\n",
       "[96 rows x 6 columns]"
      ]
     },
     "execution_count": 29,
     "metadata": {},
     "output_type": "execute_result"
    }
   ],
   "source": [
    "grades = pd.read_csv('class-grades.csv', error_bad_lines=False) # because we have \\r new line character\n",
    "grades"
   ]
  },
  {
   "cell_type": "code",
   "execution_count": 30,
   "id": "graduate-swaziland",
   "metadata": {},
   "outputs": [
    {
     "data": {
      "text/plain": [
       "Prefix        0\n",
       "Assignment    0\n",
       "Tutorial      0\n",
       "Midterm       0\n",
       "TakeHome      1\n",
       "Final         0\n",
       "dtype: int64"
      ]
     },
     "execution_count": 30,
     "metadata": {},
     "output_type": "execute_result"
    }
   ],
   "source": [
    "grades.isnull().sum()"
   ]
  },
  {
   "cell_type": "code",
   "execution_count": 31,
   "id": "mechanical-victory",
   "metadata": {},
   "outputs": [],
   "source": [
    "# add missing data\n",
    "for col in grades.columns:\n",
    "    grades.loc[grades.sample(frac=0.1).index, col] = pd.np.nan "
   ]
  },
  {
   "cell_type": "code",
   "execution_count": 32,
   "id": "developing-motel",
   "metadata": {},
   "outputs": [
    {
     "data": {
      "text/plain": [
       "Prefix        10\n",
       "Assignment    10\n",
       "Tutorial      10\n",
       "Midterm       10\n",
       "TakeHome      11\n",
       "Final         10\n",
       "dtype: int64"
      ]
     },
     "execution_count": 32,
     "metadata": {},
     "output_type": "execute_result"
    }
   ],
   "source": [
    "grades.isnull().sum()"
   ]
  },
  {
   "cell_type": "code",
   "execution_count": 33,
   "id": "079e896c",
   "metadata": {},
   "outputs": [
    {
     "data": {
      "image/png": "[encoded data removed]",
      "text/plain": [
       "<Figure size 1800x720 with 2 Axes>"
      ]
     },
     "metadata": {
      "needs_background": "light"
     },
     "output_type": "display_data"
    }
   ],
   "source": [
    "# Plot correlation heatmap of missingness\n",
    "msno.matrix(grades);"
   ]
  },
  {
   "cell_type": "code",
   "execution_count": 34,
   "id": "stuck-organic",
   "metadata": {
    "scrolled": true
   },
   "outputs": [
    {
     "data": {
      "image/png": "[encoded data removed]",
      "text/plain": [
       "<Figure size 432x288 with 1 Axes>"
      ]
     },
     "metadata": {
      "needs_background": "light"
     },
     "output_type": "display_data"
    }
   ],
   "source": [
    "grades['Prefix'].plot(kind=\"hist\", title=\"Histogram of Prefix\");"
   ]
  },
  {
   "cell_type": "code",
   "execution_count": 35,
   "id": "cardiac-international",
   "metadata": {},
   "outputs": [
    {
     "data": {
      "text/plain": [
       "0.9329685362517114"
      ]
     },
     "execution_count": 35,
     "metadata": {},
     "output_type": "execute_result"
    }
   ],
   "source": [
    "grades['Prefix'].var()"
   ]
  },
  {
   "cell_type": "code",
   "execution_count": 36,
   "id": "joined-monster",
   "metadata": {},
   "outputs": [
    {
     "data": {
      "text/plain": [
       "7"
      ]
     },
     "execution_count": 36,
     "metadata": {},
     "output_type": "execute_result"
    }
   ],
   "source": [
    "prefix_mean = round(grades['Prefix'].mean())\n",
    "prefix_mean"
   ]
  },
  {
   "cell_type": "code",
   "execution_count": 37,
   "id": "proved-poster",
   "metadata": {},
   "outputs": [
    {
     "data": {
      "text/plain": [
       "0"
      ]
     },
     "execution_count": 37,
     "metadata": {},
     "output_type": "execute_result"
    }
   ],
   "source": [
    "grades['Prefix'] = grades['Prefix'].fillna(prefix_mean)\n",
    "grades['Prefix'].isnull().sum()"
   ]
  },
  {
   "cell_type": "code",
   "execution_count": 38,
   "id": "endless-stevens",
   "metadata": {},
   "outputs": [
    {
     "data": {
      "image/png": "[encoded data removed]",
      "text/plain": [
       "<Figure size 432x288 with 1 Axes>"
      ]
     },
     "metadata": {
      "needs_background": "light"
     },
     "output_type": "display_data"
    }
   ],
   "source": [
    "grades['Prefix'].plot(kind=\"hist\", title=\"Histogram of Prefix\");"
   ]
  },
  {
   "cell_type": "code",
   "execution_count": 39,
   "id": "stone-partnership",
   "metadata": {},
   "outputs": [
    {
     "data": {
      "text/plain": [
       "0.8421052631578947"
      ]
     },
     "execution_count": 39,
     "metadata": {},
     "output_type": "execute_result"
    }
   ],
   "source": [
    "grades['Prefix'].var()"
   ]
  },
  {
   "cell_type": "code",
   "execution_count": 40,
   "id": "polyphonic-omega",
   "metadata": {},
   "outputs": [
    {
     "data": {
      "text/plain": [
       "Prefix         0\n",
       "Assignment    10\n",
       "Tutorial      10\n",
       "Midterm       10\n",
       "TakeHome      11\n",
       "Final         10\n",
       "dtype: int64"
      ]
     },
     "execution_count": 40,
     "metadata": {},
     "output_type": "execute_result"
    }
   ],
   "source": [
    "grades.isnull().sum()"
   ]
  },
  {
   "cell_type": "code",
   "execution_count": 41,
   "id": "hollywood-fisher",
   "metadata": {},
   "outputs": [
    {
     "data": {
      "image/png": "[encoded data removed]",
      "text/plain": [
       "<Figure size 432x288 with 1 Axes>"
      ]
     },
     "metadata": {
      "needs_background": "light"
     },
     "output_type": "display_data"
    }
   ],
   "source": [
    "grades['Assignment'].plot(kind=\"hist\", title=\"Histogram of Assignment\");"
   ]
  },
  {
   "cell_type": "code",
   "execution_count": 42,
   "id": "functioning-college",
   "metadata": {},
   "outputs": [
    {
     "data": {
      "text/plain": [
       "164.39563157318744"
      ]
     },
     "execution_count": 42,
     "metadata": {},
     "output_type": "execute_result"
    }
   ],
   "source": [
    "grades['Assignment'].var()"
   ]
  },
  {
   "cell_type": "code",
   "execution_count": 43,
   "id": "banned-breakfast",
   "metadata": {},
   "outputs": [
    {
     "data": {
      "text/plain": [
       "89"
      ]
     },
     "execution_count": 43,
     "metadata": {},
     "output_type": "execute_result"
    }
   ],
   "source": [
    "assignment_median = round(grades['Assignment'].median())\n",
    "assignment_median"
   ]
  },
  {
   "cell_type": "code",
   "execution_count": 44,
   "id": "marine-sensitivity",
   "metadata": {},
   "outputs": [
    {
     "data": {
      "text/plain": [
       "0"
      ]
     },
     "execution_count": 44,
     "metadata": {},
     "output_type": "execute_result"
    }
   ],
   "source": [
    "grades['Assignment'] = grades['Assignment'].fillna(assignment_median)\n",
    "grades['Assignment'].isnull().sum()"
   ]
  },
  {
   "cell_type": "code",
   "execution_count": 45,
   "id": "monetary-split",
   "metadata": {},
   "outputs": [
    {
     "data": {
      "image/png": "[encoded data removed]",
      "text/plain": [
       "<Figure size 432x288 with 1 Axes>"
      ]
     },
     "metadata": {
      "needs_background": "light"
     },
     "output_type": "display_data"
    }
   ],
   "source": [
    "grades['Assignment'].plot(kind=\"hist\",title=\"Histogram of Assignment\");"
   ]
  },
  {
   "cell_type": "code",
   "execution_count": 46,
   "id": "outside-punch",
   "metadata": {},
   "outputs": [
    {
     "data": {
      "text/plain": [
       "148.37561192982454"
      ]
     },
     "execution_count": 46,
     "metadata": {},
     "output_type": "execute_result"
    }
   ],
   "source": [
    "grades['Assignment'].var()"
   ]
  },
  {
   "cell_type": "code",
   "execution_count": 47,
   "id": "7c9e512a",
   "metadata": {},
   "outputs": [
    {
     "data": {
      "text/plain": [
       "Prefix         0\n",
       "Assignment     0\n",
       "Tutorial      10\n",
       "Midterm       10\n",
       "TakeHome      11\n",
       "Final         10\n",
       "dtype: int64"
      ]
     },
     "execution_count": 47,
     "metadata": {},
     "output_type": "execute_result"
    }
   ],
   "source": [
    "grades.isnull().sum()"
   ]
  },
  {
   "cell_type": "code",
   "execution_count": 48,
   "id": "federal-principal",
   "metadata": {},
   "outputs": [
    {
     "data": {
      "text/plain": [
       "0      34.09\n",
       "1     105.49\n",
       "2      83.17\n",
       "3      96.06\n",
       "4      93.64\n",
       "5      92.58\n",
       "6     102.99\n",
       "7      86.85\n",
       "8      93.10\n",
       "9      97.55\n",
       "10     90.20\n",
       "11     80.60\n",
       "12    103.71\n",
       "13     83.53\n",
       "14     89.08\n",
       "15     95.43\n",
       "16     89.08\n",
       "17    102.52\n",
       "18     81.85\n",
       "19       NaN\n",
       "20     97.52\n",
       "21     76.21\n",
       "22     90.20\n",
       "23       NaN\n",
       "24     95.24\n",
       "25     86.65\n",
       "26     86.67\n",
       "27     94.89\n",
       "28     65.18\n",
       "29    102.46\n",
       "Name: Tutorial, dtype: float64"
      ]
     },
     "execution_count": 48,
     "metadata": {},
     "output_type": "execute_result"
    }
   ],
   "source": [
    "# Forward Filling  >> use the previous value\n",
    "grades['Tutorial'][0:30]"
   ]
  },
  {
   "cell_type": "code",
   "execution_count": 49,
   "id": "changing-entertainment",
   "metadata": {},
   "outputs": [],
   "source": [
    "grades['Tutorial'] = grades['Tutorial'].fillna(method=\"ffill\")"
   ]
  },
  {
   "cell_type": "code",
   "execution_count": 50,
   "id": "21277e72",
   "metadata": {},
   "outputs": [
    {
     "data": {
      "text/plain": [
       "0      34.09\n",
       "1     105.49\n",
       "2      83.17\n",
       "3      96.06\n",
       "4      93.64\n",
       "5      92.58\n",
       "6     102.99\n",
       "7      86.85\n",
       "8      93.10\n",
       "9      97.55\n",
       "10     90.20\n",
       "11     80.60\n",
       "12    103.71\n",
       "13     83.53\n",
       "14     89.08\n",
       "15     95.43\n",
       "16     89.08\n",
       "17    102.52\n",
       "18     81.85\n",
       "19     81.85\n",
       "20     97.52\n",
       "21     76.21\n",
       "22     90.20\n",
       "23     90.20\n",
       "24     95.24\n",
       "25     86.65\n",
       "26     86.67\n",
       "27     94.89\n",
       "28     65.18\n",
       "29    102.46\n",
       "Name: Tutorial, dtype: float64"
      ]
     },
     "execution_count": 50,
     "metadata": {},
     "output_type": "execute_result"
    }
   ],
   "source": [
    "grades['Tutorial'][0:30]"
   ]
  },
  {
   "cell_type": "code",
   "execution_count": 51,
   "id": "anticipated-restoration",
   "metadata": {},
   "outputs": [
    {
     "data": {
      "text/plain": [
       "Prefix         0\n",
       "Assignment     0\n",
       "Tutorial       0\n",
       "Midterm       10\n",
       "TakeHome      11\n",
       "Final         10\n",
       "dtype: int64"
      ]
     },
     "execution_count": 51,
     "metadata": {},
     "output_type": "execute_result"
    }
   ],
   "source": [
    "grades.isnull().sum()"
   ]
  },
  {
   "cell_type": "code",
   "execution_count": 52,
   "id": "sublime-swing",
   "metadata": {},
   "outputs": [
    {
     "data": {
      "text/plain": [
       "0     51.48\n",
       "1     99.07\n",
       "2     63.15\n",
       "3    105.93\n",
       "4    107.41\n",
       "5     97.78\n",
       "6     99.07\n",
       "7       NaN\n",
       "8     18.52\n",
       "9     88.89\n",
       "Name: TakeHome, dtype: float64"
      ]
     },
     "execution_count": 52,
     "metadata": {},
     "output_type": "execute_result"
    }
   ],
   "source": [
    "# Backward Filling >> use the next value\n",
    "grades['TakeHome'][0:10]"
   ]
  },
  {
   "cell_type": "code",
   "execution_count": 53,
   "id": "valued-industry",
   "metadata": {},
   "outputs": [
    {
     "data": {
      "image/png": "[encoded data removed]",
      "text/plain": [
       "<Figure size 432x288 with 1 Axes>"
      ]
     },
     "metadata": {
      "needs_background": "light"
     },
     "output_type": "display_data"
    }
   ],
   "source": [
    "grades['TakeHome'].plot(kind=\"hist\", bins=20, title=\"Histogram of Take Home\");"
   ]
  },
  {
   "cell_type": "code",
   "execution_count": 54,
   "id": "hydraulic-investing",
   "metadata": {},
   "outputs": [],
   "source": [
    "grades['TakeHome'].fillna(method=\"bfill\", inplace =True)"
   ]
  },
  {
   "cell_type": "code",
   "execution_count": 55,
   "id": "a86975b5",
   "metadata": {},
   "outputs": [
    {
     "data": {
      "text/plain": [
       "0     51.48\n",
       "1     99.07\n",
       "2     63.15\n",
       "3    105.93\n",
       "4    107.41\n",
       "5     97.78\n",
       "6     99.07\n",
       "7     18.52\n",
       "8     18.52\n",
       "9     88.89\n",
       "Name: TakeHome, dtype: float64"
      ]
     },
     "execution_count": 55,
     "metadata": {},
     "output_type": "execute_result"
    }
   ],
   "source": [
    "grades['TakeHome'][0:10]"
   ]
  },
  {
   "cell_type": "code",
   "execution_count": 56,
   "id": "cleared-spelling",
   "metadata": {},
   "outputs": [
    {
     "data": {
      "text/plain": [
       "Prefix         0\n",
       "Assignment     0\n",
       "Tutorial       0\n",
       "Midterm       10\n",
       "TakeHome       0\n",
       "Final         10\n",
       "dtype: int64"
      ]
     },
     "execution_count": 56,
     "metadata": {},
     "output_type": "execute_result"
    }
   ],
   "source": [
    "grades.isnull().sum()"
   ]
  },
  {
   "cell_type": "code",
   "execution_count": 57,
   "id": "senior-hybrid",
   "metadata": {},
   "outputs": [
    {
     "data": {
      "image/png": "[encoded data removed]",
      "text/plain": [
       "<Figure size 432x288 with 1 Axes>"
      ]
     },
     "metadata": {
      "needs_background": "light"
     },
     "output_type": "display_data"
    }
   ],
   "source": [
    "grades['TakeHome'].plot(kind=\"hist\", bins=20, title=\"Histogram of Take Home\");"
   ]
  },
  {
   "cell_type": "code",
   "execution_count": 58,
   "id": "b36f7208",
   "metadata": {},
   "outputs": [
    {
     "data": {
      "text/plain": [
       "Prefix         0\n",
       "Assignment     0\n",
       "Tutorial       0\n",
       "Midterm       10\n",
       "TakeHome       0\n",
       "Final         10\n",
       "dtype: int64"
      ]
     },
     "execution_count": 58,
     "metadata": {},
     "output_type": "execute_result"
    }
   ],
   "source": [
    "grades.isnull().sum()"
   ]
  },
  {
   "cell_type": "code",
   "execution_count": 59,
   "id": "27c23e30",
   "metadata": {},
   "outputs": [],
   "source": [
    "# Random Sample Imputation\n",
    "def random_sample_imputation(df):\n",
    "    cols_with_missing_values = df.columns[df.isna().any()].tolist()\n",
    "    \n",
    "    for var in cols_with_missing_values:\n",
    "        # extract a random sample\n",
    "        random_sample_df = df[var].dropna().sample(df[var].isnull().sum(), random_state=0)\n",
    "        # re-index the randomly extracted sample\n",
    "        random_sample_df.index = df[df[var].isnull()].index\n",
    "\n",
    "        # replace the NA\n",
    "        df.loc[df[var].isnull(), var] = random_sample_df\n",
    "    return df"
   ]
  },
  {
   "cell_type": "code",
   "execution_count": 60,
   "id": "d7fb17bd",
   "metadata": {},
   "outputs": [
    {
     "data": {
      "text/plain": [
       "Prefix        0\n",
       "Assignment    0\n",
       "Tutorial      0\n",
       "Midterm       0\n",
       "TakeHome      0\n",
       "Final         0\n",
       "dtype: int64"
      ]
     },
     "execution_count": 60,
     "metadata": {},
     "output_type": "execute_result"
    }
   ],
   "source": [
    "random_sample_imputation(grades)\n",
    "grades.isnull().sum()"
   ]
  },
  {
   "cell_type": "markdown",
   "id": "b89a4d6c",
   "metadata": {},
   "source": [
    "# Resources:\n",
    "- https://chen5595.cems.umn.edu/SameStats-DifferentGraphs.pdf\n",
    "- https://matplotlib.org/2.1.1/api/_as_gen/matplotlib.pyplot.plot.html\n",
    "- Wes McKinney, 2018, Python for Data Analysis, 2ed edition, O’Reilly Media, US.\n",
    "- https://www.idrc.ca/sites/default/files/sp/Documents%20EN/10-data-visualization-tips-en.pdf"
   ]
  }
 ],
 "metadata": {
  "kernelspec": {
   "display_name": "Python 3 (ipykernel)",
   "language": "python",
   "name": "python3"
  },
  "language_info": {
   "codemirror_mode": {
    "name": "ipython",
    "version": 3
   },
   "file_extension": ".py",
   "mimetype": "text/x-python",
   "name": "python",
   "nbconvert_exporter": "python",
   "pygments_lexer": "ipython3",
   "version": "3.9.12"
  }
 },
 "nbformat": 4,
 "nbformat_minor": 5
}
